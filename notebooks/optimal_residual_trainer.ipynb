{
  "nbformat": 4,
  "nbformat_minor": 0,
  "metadata": {
    "colab": {
      "provenance": []
    },
    "kernelspec": {
      "name": "python3",
      "display_name": "Python 3"
    },
    "language_info": {
      "name": "python"
    },
    "accelerator": "GPU",
    "gpuClass": "standard",
    "widgets": {
      "application/vnd.jupyter.widget-state+json": {
        "b6c4897352a54309b6935e258a6c2c8e": {
          "model_module": "@jupyter-widgets/controls",
          "model_name": "HBoxModel",
          "model_module_version": "1.5.0",
          "state": {
            "_dom_classes": [],
            "_model_module": "@jupyter-widgets/controls",
            "_model_module_version": "1.5.0",
            "_model_name": "HBoxModel",
            "_view_count": null,
            "_view_module": "@jupyter-widgets/controls",
            "_view_module_version": "1.5.0",
            "_view_name": "HBoxView",
            "box_style": "",
            "children": [
              "IPY_MODEL_3f19e52977cd40f982355300e9b27b60",
              "IPY_MODEL_1173f194874a44ceb70b74433350268a",
              "IPY_MODEL_19de88a7875d4a2d949420af88593b67"
            ],
            "layout": "IPY_MODEL_4e6e16e355f14267bd2a2c977a622052"
          }
        },
        "3f19e52977cd40f982355300e9b27b60": {
          "model_module": "@jupyter-widgets/controls",
          "model_name": "HTMLModel",
          "model_module_version": "1.5.0",
          "state": {
            "_dom_classes": [],
            "_model_module": "@jupyter-widgets/controls",
            "_model_module_version": "1.5.0",
            "_model_name": "HTMLModel",
            "_view_count": null,
            "_view_module": "@jupyter-widgets/controls",
            "_view_module_version": "1.5.0",
            "_view_name": "HTMLView",
            "description": "",
            "description_tooltip": null,
            "layout": "IPY_MODEL_ca0ec82e2c9d4c6fa6590ca909583439",
            "placeholder": "​",
            "style": "IPY_MODEL_afaa475191e74978957706302c98e48c",
            "value": "100%"
          }
        },
        "1173f194874a44ceb70b74433350268a": {
          "model_module": "@jupyter-widgets/controls",
          "model_name": "FloatProgressModel",
          "model_module_version": "1.5.0",
          "state": {
            "_dom_classes": [],
            "_model_module": "@jupyter-widgets/controls",
            "_model_module_version": "1.5.0",
            "_model_name": "FloatProgressModel",
            "_view_count": null,
            "_view_module": "@jupyter-widgets/controls",
            "_view_module_version": "1.5.0",
            "_view_name": "ProgressView",
            "bar_style": "success",
            "description": "",
            "description_tooltip": null,
            "layout": "IPY_MODEL_2012eeaa088b41ee9cdebd8012750553",
            "max": 170498071,
            "min": 0,
            "orientation": "horizontal",
            "style": "IPY_MODEL_db8fb9dcc8ea4ddfbed3643ff786c0eb",
            "value": 170498071
          }
        },
        "19de88a7875d4a2d949420af88593b67": {
          "model_module": "@jupyter-widgets/controls",
          "model_name": "HTMLModel",
          "model_module_version": "1.5.0",
          "state": {
            "_dom_classes": [],
            "_model_module": "@jupyter-widgets/controls",
            "_model_module_version": "1.5.0",
            "_model_name": "HTMLModel",
            "_view_count": null,
            "_view_module": "@jupyter-widgets/controls",
            "_view_module_version": "1.5.0",
            "_view_name": "HTMLView",
            "description": "",
            "description_tooltip": null,
            "layout": "IPY_MODEL_6427391440c34d22bb96abf773482a68",
            "placeholder": "​",
            "style": "IPY_MODEL_c525a814fc824e0683175c7569c1b134",
            "value": " 170498071/170498071 [00:07&lt;00:00, 38807908.49it/s]"
          }
        },
        "4e6e16e355f14267bd2a2c977a622052": {
          "model_module": "@jupyter-widgets/base",
          "model_name": "LayoutModel",
          "model_module_version": "1.2.0",
          "state": {
            "_model_module": "@jupyter-widgets/base",
            "_model_module_version": "1.2.0",
            "_model_name": "LayoutModel",
            "_view_count": null,
            "_view_module": "@jupyter-widgets/base",
            "_view_module_version": "1.2.0",
            "_view_name": "LayoutView",
            "align_content": null,
            "align_items": null,
            "align_self": null,
            "border": null,
            "bottom": null,
            "display": null,
            "flex": null,
            "flex_flow": null,
            "grid_area": null,
            "grid_auto_columns": null,
            "grid_auto_flow": null,
            "grid_auto_rows": null,
            "grid_column": null,
            "grid_gap": null,
            "grid_row": null,
            "grid_template_areas": null,
            "grid_template_columns": null,
            "grid_template_rows": null,
            "height": null,
            "justify_content": null,
            "justify_items": null,
            "left": null,
            "margin": null,
            "max_height": null,
            "max_width": null,
            "min_height": null,
            "min_width": null,
            "object_fit": null,
            "object_position": null,
            "order": null,
            "overflow": null,
            "overflow_x": null,
            "overflow_y": null,
            "padding": null,
            "right": null,
            "top": null,
            "visibility": null,
            "width": null
          }
        },
        "ca0ec82e2c9d4c6fa6590ca909583439": {
          "model_module": "@jupyter-widgets/base",
          "model_name": "LayoutModel",
          "model_module_version": "1.2.0",
          "state": {
            "_model_module": "@jupyter-widgets/base",
            "_model_module_version": "1.2.0",
            "_model_name": "LayoutModel",
            "_view_count": null,
            "_view_module": "@jupyter-widgets/base",
            "_view_module_version": "1.2.0",
            "_view_name": "LayoutView",
            "align_content": null,
            "align_items": null,
            "align_self": null,
            "border": null,
            "bottom": null,
            "display": null,
            "flex": null,
            "flex_flow": null,
            "grid_area": null,
            "grid_auto_columns": null,
            "grid_auto_flow": null,
            "grid_auto_rows": null,
            "grid_column": null,
            "grid_gap": null,
            "grid_row": null,
            "grid_template_areas": null,
            "grid_template_columns": null,
            "grid_template_rows": null,
            "height": null,
            "justify_content": null,
            "justify_items": null,
            "left": null,
            "margin": null,
            "max_height": null,
            "max_width": null,
            "min_height": null,
            "min_width": null,
            "object_fit": null,
            "object_position": null,
            "order": null,
            "overflow": null,
            "overflow_x": null,
            "overflow_y": null,
            "padding": null,
            "right": null,
            "top": null,
            "visibility": null,
            "width": null
          }
        },
        "afaa475191e74978957706302c98e48c": {
          "model_module": "@jupyter-widgets/controls",
          "model_name": "DescriptionStyleModel",
          "model_module_version": "1.5.0",
          "state": {
            "_model_module": "@jupyter-widgets/controls",
            "_model_module_version": "1.5.0",
            "_model_name": "DescriptionStyleModel",
            "_view_count": null,
            "_view_module": "@jupyter-widgets/base",
            "_view_module_version": "1.2.0",
            "_view_name": "StyleView",
            "description_width": ""
          }
        },
        "2012eeaa088b41ee9cdebd8012750553": {
          "model_module": "@jupyter-widgets/base",
          "model_name": "LayoutModel",
          "model_module_version": "1.2.0",
          "state": {
            "_model_module": "@jupyter-widgets/base",
            "_model_module_version": "1.2.0",
            "_model_name": "LayoutModel",
            "_view_count": null,
            "_view_module": "@jupyter-widgets/base",
            "_view_module_version": "1.2.0",
            "_view_name": "LayoutView",
            "align_content": null,
            "align_items": null,
            "align_self": null,
            "border": null,
            "bottom": null,
            "display": null,
            "flex": null,
            "flex_flow": null,
            "grid_area": null,
            "grid_auto_columns": null,
            "grid_auto_flow": null,
            "grid_auto_rows": null,
            "grid_column": null,
            "grid_gap": null,
            "grid_row": null,
            "grid_template_areas": null,
            "grid_template_columns": null,
            "grid_template_rows": null,
            "height": null,
            "justify_content": null,
            "justify_items": null,
            "left": null,
            "margin": null,
            "max_height": null,
            "max_width": null,
            "min_height": null,
            "min_width": null,
            "object_fit": null,
            "object_position": null,
            "order": null,
            "overflow": null,
            "overflow_x": null,
            "overflow_y": null,
            "padding": null,
            "right": null,
            "top": null,
            "visibility": null,
            "width": null
          }
        },
        "db8fb9dcc8ea4ddfbed3643ff786c0eb": {
          "model_module": "@jupyter-widgets/controls",
          "model_name": "ProgressStyleModel",
          "model_module_version": "1.5.0",
          "state": {
            "_model_module": "@jupyter-widgets/controls",
            "_model_module_version": "1.5.0",
            "_model_name": "ProgressStyleModel",
            "_view_count": null,
            "_view_module": "@jupyter-widgets/base",
            "_view_module_version": "1.2.0",
            "_view_name": "StyleView",
            "bar_color": null,
            "description_width": ""
          }
        },
        "6427391440c34d22bb96abf773482a68": {
          "model_module": "@jupyter-widgets/base",
          "model_name": "LayoutModel",
          "model_module_version": "1.2.0",
          "state": {
            "_model_module": "@jupyter-widgets/base",
            "_model_module_version": "1.2.0",
            "_model_name": "LayoutModel",
            "_view_count": null,
            "_view_module": "@jupyter-widgets/base",
            "_view_module_version": "1.2.0",
            "_view_name": "LayoutView",
            "align_content": null,
            "align_items": null,
            "align_self": null,
            "border": null,
            "bottom": null,
            "display": null,
            "flex": null,
            "flex_flow": null,
            "grid_area": null,
            "grid_auto_columns": null,
            "grid_auto_flow": null,
            "grid_auto_rows": null,
            "grid_column": null,
            "grid_gap": null,
            "grid_row": null,
            "grid_template_areas": null,
            "grid_template_columns": null,
            "grid_template_rows": null,
            "height": null,
            "justify_content": null,
            "justify_items": null,
            "left": null,
            "margin": null,
            "max_height": null,
            "max_width": null,
            "min_height": null,
            "min_width": null,
            "object_fit": null,
            "object_position": null,
            "order": null,
            "overflow": null,
            "overflow_x": null,
            "overflow_y": null,
            "padding": null,
            "right": null,
            "top": null,
            "visibility": null,
            "width": null
          }
        },
        "c525a814fc824e0683175c7569c1b134": {
          "model_module": "@jupyter-widgets/controls",
          "model_name": "DescriptionStyleModel",
          "model_module_version": "1.5.0",
          "state": {
            "_model_module": "@jupyter-widgets/controls",
            "_model_module_version": "1.5.0",
            "_model_name": "DescriptionStyleModel",
            "_view_count": null,
            "_view_module": "@jupyter-widgets/base",
            "_view_module_version": "1.2.0",
            "_view_name": "StyleView",
            "description_width": ""
          }
        }
      }
    }
  },
  "cells": [
    {
      "cell_type": "markdown",
      "source": [
        "Note: make sure to restart the runtime after running the next cell\n",
        "If any changes are made to the residuals library on git, this cell must be run and the runtime must be restarted to get the latest version"
      ],
      "metadata": {
        "id": "PbBFAnhZ8ou9"
      }
    },
    {
      "cell_type": "code",
      "execution_count": null,
      "metadata": {
        "id": "vOQl-hcYP6E5"
      },
      "outputs": [],
      "source": [
        "!rm -fr ResidualNets\n",
        "!git clone https://github.com/rohin-dasari/ResidualNets.git\n",
        "!cd ResidualNets && pip install -e . && cd ../"
      ]
    },
    {
      "cell_type": "code",
      "source": [
        "import torch\n",
        "from residual import ResidualConfig\n",
        "from residual.utils import Trainer"
      ],
      "metadata": {
        "id": "oSWmXezlQ5aj"
      },
      "execution_count": 1,
      "outputs": []
    },
    {
      "cell_type": "markdown",
      "source": [
        "# Model Creation Strategy:\n",
        "- Start with a single layer residual model\n",
        "- Create N models, each with a set of parameters from a defined search space\n",
        "- To limit the size of the search space, we will only search the convolutional filters and kernel sizes:\n",
        "  - [32, 64, 128] x [3, 5, 7]\n",
        "\n",
        "- Train 9 different models for 30 epochs\n",
        "- Get a list of max performances for each model:\n",
        "  - [64, 83, 85, 95, 96, 96, 96, 96, 97]\n",
        "- Set a threshold (might be the 80th percentile)\n",
        "- Choose the model with the lowest number of parameters after thresholding\n",
        "- Add a new layer; keep parameters of previous model; add all combinations in search space\n",
        "  - skip models that have more than 5M parameters\n",
        "  - train these models for another 30 epochs\n",
        "  - keep the max"
      ],
      "metadata": {
        "id": "j2QjiKjmRF5H"
      }
    },
    {
      "cell_type": "code",
      "source": [
        "import torchvision\n",
        "import torchvision.transforms as transforms\n",
        "\n",
        "transform = transforms.Compose(\n",
        "    [transforms.ToTensor(),\n",
        "     transforms.Normalize((0.5, 0.5, 0.5), (0.5, 0.5, 0.5))])\n",
        "\n",
        "trainset = torchvision.datasets.CIFAR10(root='./data', train=True,\n",
        "                                        download=True, transform=transform)\n",
        "\n",
        "testset = torchvision.datasets.CIFAR10(root='./data', train=False,\n",
        "                                       download=True, transform=transform)"
      ],
      "metadata": {
        "colab": {
          "base_uri": "https://localhost:8080/",
          "height": 104,
          "referenced_widgets": [
            "b6c4897352a54309b6935e258a6c2c8e",
            "3f19e52977cd40f982355300e9b27b60",
            "1173f194874a44ceb70b74433350268a",
            "19de88a7875d4a2d949420af88593b67",
            "4e6e16e355f14267bd2a2c977a622052",
            "ca0ec82e2c9d4c6fa6590ca909583439",
            "afaa475191e74978957706302c98e48c",
            "2012eeaa088b41ee9cdebd8012750553",
            "db8fb9dcc8ea4ddfbed3643ff786c0eb",
            "6427391440c34d22bb96abf773482a68",
            "c525a814fc824e0683175c7569c1b134"
          ]
        },
        "id": "E76Xe2GLQ6cX",
        "outputId": "d16e9d98-d694-4d2e-b6d8-36a249d91109"
      },
      "execution_count": 2,
      "outputs": [
        {
          "output_type": "stream",
          "name": "stdout",
          "text": [
            "Downloading https://www.cs.toronto.edu/~kriz/cifar-10-python.tar.gz to ./data/cifar-10-python.tar.gz\n"
          ]
        },
        {
          "output_type": "display_data",
          "data": {
            "text/plain": [
              "  0%|          | 0/170498071 [00:00<?, ?it/s]"
            ],
            "application/vnd.jupyter.widget-view+json": {
              "version_major": 2,
              "version_minor": 0,
              "model_id": "b6c4897352a54309b6935e258a6c2c8e"
            }
          },
          "metadata": {}
        },
        {
          "output_type": "stream",
          "name": "stdout",
          "text": [
            "Extracting ./data/cifar-10-python.tar.gz to ./data\n",
            "Files already downloaded and verified\n"
          ]
        }
      ]
    },
    {
      "cell_type": "code",
      "source": [
        "from itertools import product\n",
        "from copy import deepcopy\n",
        "import numpy as np\n",
        "\n",
        "layers = 4\n",
        "filters = [32, 64, 128]\n",
        "kernel_sizes = [3, 5, 7]\n",
        "histories = {}\n",
        "best_config = []\n",
        "best_performance = 0\n",
        "for layer in range(layers):\n",
        "  layer_configs = []\n",
        "  for filter_size, kernel_size in product(filters, kernel_sizes):\n",
        "    config = deepcopy(best_config)\n",
        "    config.append(ResidualConfig(channels=filter_size, conv_kernel_size=kernel_size, skip_kernel_size=1))\n",
        "    trainer = Trainer(\n",
        "          model_config=config,\n",
        "          n_classes=10,\n",
        "          optimizer='Adam',\n",
        "          criterion=torch.nn.CrossEntropyLoss(),\n",
        "          trainset=testset,\n",
        "          testset=testset,\n",
        "          verbosity=0,\n",
        "          checkpoint_path=f'{layer}-{filter_size}-{kernel_size}'\n",
        "      )\n",
        "    if trainer.model.get_parameter_count() >= 5e6:\n",
        "      continue\n",
        "    history = trainer.train(30 + (10*(layer+1)))\n",
        "    histories[(layer, filter_size, kernel_size)] = {}\n",
        "    histories[(layer, filter_size, kernel_size)]['parameters'] = trainer.model.get_parameter_count()\n",
        "    histories[(layer, filter_size, kernel_size)]['history'] = history\n",
        "    layer_configs.append((filter_size, kernel_size, history['val']['acc'][-1], trainer.model.get_parameter_count()))\n",
        "\n",
        "    print(config, history['val']['acc'][-1])\n",
        "\n",
        "  performance = [c[-2] for c in layer_configs]\n",
        "  top_thresh = np.percentile(performance, 80)\n",
        "  print(f'thresh: {top_thresh}')\n",
        "  top_perf = list(filter(lambda a: a[-2] >= top_thresh, layer_configs))\n",
        "  best_layer = min(top_perf, key=lambda element: element[-1])\n",
        "  if best_layer[-2] > best_performance:\n",
        "    best_performance = best_layer[-2]\n",
        "    best_config.append(ResidualConfig(channels=best_layer[0], conv_kernel_size=best_layer[1], skip_kernel_size=1))\n",
        "    print('current config: ')\n",
        "    print(best_config)\n",
        "  else:\n",
        "    print('reached best performance')\n",
        "    print(best_config)\n",
        "    break\n",
        "    "
      ],
      "metadata": {
        "colab": {
          "base_uri": "https://localhost:8080/"
        },
        "id": "I4FfzyAMSPZg",
        "outputId": "a9f7e493-ad3a-47a0-b40b-708db902aa09"
      },
      "execution_count": null,
      "outputs": [
        {
          "output_type": "stream",
          "name": "stdout",
          "text": [
            "[ResidualConfig(channels=32, conv_kernel_size=3, in_size=(1, 64, 8, 8), skip_kernel_size=1, stride=1, n_blocks=2)] 0.6886\n",
            "[ResidualConfig(channels=32, conv_kernel_size=5, in_size=(1, 64, 8, 8), skip_kernel_size=1, stride=1, n_blocks=2)] 0.7381\n",
            "[ResidualConfig(channels=32, conv_kernel_size=7, in_size=(1, 64, 8, 8), skip_kernel_size=1, stride=1, n_blocks=2)] 0.7405\n",
            "[ResidualConfig(channels=64, conv_kernel_size=3, in_size=(1, 64, 8, 8), skip_kernel_size=1, stride=1, n_blocks=2)] 0.752\n",
            "[ResidualConfig(channels=64, conv_kernel_size=5, in_size=(1, 64, 8, 8), skip_kernel_size=1, stride=1, n_blocks=2)] 0.7971\n",
            "[ResidualConfig(channels=64, conv_kernel_size=7, in_size=(1, 64, 8, 8), skip_kernel_size=1, stride=1, n_blocks=2)] 0.8606\n",
            "[ResidualConfig(channels=128, conv_kernel_size=3, in_size=(1, 64, 8, 8), skip_kernel_size=1, stride=1, n_blocks=2)] 0.787\n",
            "[ResidualConfig(channels=128, conv_kernel_size=5, in_size=(1, 64, 8, 8), skip_kernel_size=1, stride=1, n_blocks=2)] 0.8534\n",
            "[ResidualConfig(channels=128, conv_kernel_size=7, in_size=(1, 64, 8, 8), skip_kernel_size=1, stride=1, n_blocks=2)] 0.8912\n",
            "thresh: 0.85628\n",
            "current config: \n",
            "[ResidualConfig(channels=64, conv_kernel_size=7, in_size=None, skip_kernel_size=1, stride=1, n_blocks=2)]\n",
            "[ResidualConfig(channels=64, conv_kernel_size=7, in_size=(1, 64, 8, 8), skip_kernel_size=1, stride=1, n_blocks=2), ResidualConfig(channels=32, conv_kernel_size=3, in_size=(1, 64, 8, 8), skip_kernel_size=1, stride=1, n_blocks=2)] 0.917\n",
            "[ResidualConfig(channels=64, conv_kernel_size=7, in_size=(1, 64, 8, 8), skip_kernel_size=1, stride=1, n_blocks=2), ResidualConfig(channels=32, conv_kernel_size=5, in_size=(1, 64, 8, 8), skip_kernel_size=1, stride=1, n_blocks=2)] 0.9576\n",
            "[ResidualConfig(channels=64, conv_kernel_size=7, in_size=(1, 64, 8, 8), skip_kernel_size=1, stride=1, n_blocks=2), ResidualConfig(channels=32, conv_kernel_size=7, in_size=(1, 64, 8, 8), skip_kernel_size=1, stride=1, n_blocks=2)] 0.9425\n",
            "[ResidualConfig(channels=64, conv_kernel_size=7, in_size=(1, 64, 8, 8), skip_kernel_size=1, stride=1, n_blocks=2), ResidualConfig(channels=64, conv_kernel_size=3, in_size=(1, 64, 8, 8), skip_kernel_size=1, stride=1, n_blocks=2)] 0.9402\n",
            "[ResidualConfig(channels=64, conv_kernel_size=7, in_size=(1, 64, 8, 8), skip_kernel_size=1, stride=1, n_blocks=2), ResidualConfig(channels=64, conv_kernel_size=5, in_size=(1, 64, 8, 8), skip_kernel_size=1, stride=1, n_blocks=2)] 0.9469\n",
            "[ResidualConfig(channels=64, conv_kernel_size=7, in_size=(1, 64, 8, 8), skip_kernel_size=1, stride=1, n_blocks=2), ResidualConfig(channels=64, conv_kernel_size=7, in_size=(1, 64, 8, 8), skip_kernel_size=1, stride=1, n_blocks=2)] 0.9456\n",
            "[ResidualConfig(channels=64, conv_kernel_size=7, in_size=(1, 64, 8, 8), skip_kernel_size=1, stride=1, n_blocks=2), ResidualConfig(channels=128, conv_kernel_size=3, in_size=(1, 64, 8, 8), skip_kernel_size=1, stride=1, n_blocks=2)] 0.9563\n",
            "[ResidualConfig(channels=64, conv_kernel_size=7, in_size=(1, 64, 8, 8), skip_kernel_size=1, stride=1, n_blocks=2), ResidualConfig(channels=128, conv_kernel_size=5, in_size=(1, 64, 8, 8), skip_kernel_size=1, stride=1, n_blocks=2)] 0.9271\n",
            "[ResidualConfig(channels=64, conv_kernel_size=7, in_size=(1, 64, 8, 8), skip_kernel_size=1, stride=1, n_blocks=2), ResidualConfig(channels=128, conv_kernel_size=7, in_size=(1, 64, 8, 8), skip_kernel_size=1, stride=1, n_blocks=2)] 0.9576\n",
            "thresh: 0.95682\n",
            "current config: \n",
            "[ResidualConfig(channels=64, conv_kernel_size=7, in_size=None, skip_kernel_size=1, stride=1, n_blocks=2), ResidualConfig(channels=32, conv_kernel_size=5, in_size=None, skip_kernel_size=1, stride=1, n_blocks=2)]\n",
            "[ResidualConfig(channels=64, conv_kernel_size=7, in_size=(1, 64, 8, 8), skip_kernel_size=1, stride=1, n_blocks=2), ResidualConfig(channels=32, conv_kernel_size=5, in_size=(1, 64, 8, 8), skip_kernel_size=1, stride=1, n_blocks=2), ResidualConfig(channels=32, conv_kernel_size=3, in_size=(1, 32, 8, 8), skip_kernel_size=1, stride=1, n_blocks=2)] 0.9786\n",
            "[ResidualConfig(channels=64, conv_kernel_size=7, in_size=(1, 64, 8, 8), skip_kernel_size=1, stride=1, n_blocks=2), ResidualConfig(channels=32, conv_kernel_size=5, in_size=(1, 64, 8, 8), skip_kernel_size=1, stride=1, n_blocks=2), ResidualConfig(channels=32, conv_kernel_size=5, in_size=(1, 32, 8, 8), skip_kernel_size=1, stride=1, n_blocks=2)] 0.9608\n",
            "[ResidualConfig(channels=64, conv_kernel_size=7, in_size=(1, 64, 8, 8), skip_kernel_size=1, stride=1, n_blocks=2), ResidualConfig(channels=32, conv_kernel_size=5, in_size=(1, 64, 8, 8), skip_kernel_size=1, stride=1, n_blocks=2), ResidualConfig(channels=32, conv_kernel_size=7, in_size=(1, 32, 8, 8), skip_kernel_size=1, stride=1, n_blocks=2)] 0.9641\n",
            "[ResidualConfig(channels=64, conv_kernel_size=7, in_size=(1, 64, 8, 8), skip_kernel_size=1, stride=1, n_blocks=2), ResidualConfig(channels=32, conv_kernel_size=5, in_size=(1, 64, 8, 8), skip_kernel_size=1, stride=1, n_blocks=2), ResidualConfig(channels=64, conv_kernel_size=3, in_size=(1, 32, 8, 8), skip_kernel_size=1, stride=1, n_blocks=2)] 0.9811\n",
            "[ResidualConfig(channels=64, conv_kernel_size=7, in_size=(1, 64, 8, 8), skip_kernel_size=1, stride=1, n_blocks=2), ResidualConfig(channels=32, conv_kernel_size=5, in_size=(1, 64, 8, 8), skip_kernel_size=1, stride=1, n_blocks=2), ResidualConfig(channels=64, conv_kernel_size=5, in_size=(1, 32, 8, 8), skip_kernel_size=1, stride=1, n_blocks=2)] 0.9504\n",
            "[ResidualConfig(channels=64, conv_kernel_size=7, in_size=(1, 64, 8, 8), skip_kernel_size=1, stride=1, n_blocks=2), ResidualConfig(channels=32, conv_kernel_size=5, in_size=(1, 64, 8, 8), skip_kernel_size=1, stride=1, n_blocks=2), ResidualConfig(channels=64, conv_kernel_size=7, in_size=(1, 32, 8, 8), skip_kernel_size=1, stride=1, n_blocks=2)] 0.9522\n",
            "[ResidualConfig(channels=64, conv_kernel_size=7, in_size=(1, 64, 8, 8), skip_kernel_size=1, stride=1, n_blocks=2), ResidualConfig(channels=32, conv_kernel_size=5, in_size=(1, 64, 8, 8), skip_kernel_size=1, stride=1, n_blocks=2), ResidualConfig(channels=128, conv_kernel_size=3, in_size=(1, 32, 8, 8), skip_kernel_size=1, stride=1, n_blocks=2)] 0.9755\n",
            "[ResidualConfig(channels=64, conv_kernel_size=7, in_size=(1, 64, 8, 8), skip_kernel_size=1, stride=1, n_blocks=2), ResidualConfig(channels=32, conv_kernel_size=5, in_size=(1, 64, 8, 8), skip_kernel_size=1, stride=1, n_blocks=2), ResidualConfig(channels=128, conv_kernel_size=5, in_size=(1, 32, 8, 8), skip_kernel_size=1, stride=1, n_blocks=2)] 0.9791\n",
            "[ResidualConfig(channels=64, conv_kernel_size=7, in_size=(1, 64, 8, 8), skip_kernel_size=1, stride=1, n_blocks=2), ResidualConfig(channels=32, conv_kernel_size=5, in_size=(1, 64, 8, 8), skip_kernel_size=1, stride=1, n_blocks=2), ResidualConfig(channels=128, conv_kernel_size=7, in_size=(1, 32, 8, 8), skip_kernel_size=1, stride=1, n_blocks=2)] 0.9764\n",
            "thresh: 0.9788\n",
            "current config: \n",
            "[ResidualConfig(channels=64, conv_kernel_size=7, in_size=None, skip_kernel_size=1, stride=1, n_blocks=2), ResidualConfig(channels=32, conv_kernel_size=5, in_size=None, skip_kernel_size=1, stride=1, n_blocks=2), ResidualConfig(channels=64, conv_kernel_size=3, in_size=None, skip_kernel_size=1, stride=1, n_blocks=2)]\n"
          ]
        }
      ]
    },
    {
      "cell_type": "code",
      "source": [
        "config = [\n",
        "      ResidualConfig(channels=64, conv_kernel_size=7, in_size=None, skip_kernel_size=1),\n",
        "      ResidualConfig(channels=32, conv_kernel_size=5, in_size=None, skip_kernel_size=1),\n",
        "      ResidualConfig(channels=64, conv_kernel_size=3, in_size=None, skip_kernel_size=1)\n",
        "    ]\n",
        "trainer = Trainer(\n",
        "          model_config=config,\n",
        "          n_classes=10,\n",
        "          optimizer='Adam',\n",
        "          criterion=torch.nn.CrossEntropyLoss(),\n",
        "          trainset=testset,\n",
        "          testset=testset,\n",
        "          verbosity=1\n",
        "      )\n",
        "trainer.model.get_parameter_count()"
      ],
      "metadata": {
        "colab": {
          "base_uri": "https://localhost:8080/",
          "height": 0
        },
        "id": "_3AGJZeAWAGr",
        "outputId": "e8b835a6-76fd-45da-b984-9f255823a1cf"
      },
      "execution_count": 3,
      "outputs": [
        {
          "output_type": "execute_result",
          "data": {
            "text/plain": [
              "1089418"
            ]
          },
          "metadata": {},
          "execution_count": 3
        }
      ]
    },
    {
      "cell_type": "code",
      "source": [
        "histories = trainer.train(30)"
      ],
      "metadata": {
        "id": "4OO3fCZYWnm8"
      },
      "execution_count": null,
      "outputs": []
    },
    {
      "cell_type": "code",
      "source": [],
      "metadata": {
        "id": "2VtlFsDT3mKs"
      },
      "execution_count": null,
      "outputs": []
    }
  ]
}